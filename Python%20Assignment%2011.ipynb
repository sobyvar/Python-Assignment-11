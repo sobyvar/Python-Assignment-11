{
 "cells": [
  {
   "cell_type": "code",
   "execution_count": 77,
   "metadata": {},
   "outputs": [],
   "source": [
    "import numpy as np\n",
    "import pandas as pd\n",
    "df = pd.DataFrame({'From_To': ['LoNDon_paris', 'MAdrid_miLAN', 'londON_StockhOlm',\n",
    "'Budapest_PaRis', 'Brussels_londOn'],\n",
    "'FlightNumber': [10045, np.nan, 10065, np.nan, 10085],\n",
    "'RecentDelays': [[23, 47], [], [24, 43, 87], [13], [67, 32]],\n",
    "'Airline': ['KLM(!)', '<Air France> (12)', '(British Airways. )',\n",
    "'12. Air France', '\"Swiss Air\"']})\n"
   ]
  },
  {
   "cell_type": "code",
   "execution_count": 78,
   "metadata": {},
   "outputs": [
    {
     "name": "stdout",
     "output_type": "stream",
     "text": [
      "0    10045\n",
      "1    10055\n",
      "2    10065\n",
      "3    10075\n",
      "4    10085\n",
      "Name: FlightNumber, dtype: int32\n"
     ]
    }
   ],
   "source": [
    "# Some values in the the FlightNumber column are missing. These numbers are meant\n",
    "# to increase by 10 with each row so 10055 and 10075 need to be put in place. Fill in\n",
    "# these missing numbers and make the column an integer column (instead of a float\n",
    "# column).\n",
    "mask = df['FlightNumber'].isna()\n",
    "df[\"FlightNumber\"] = np.where(mask, df[\"FlightNumber\"].fillna(method='ffill') + 10, df[\"FlightNumber\"])\n",
    "\n",
    "df[\"FlightNumber\"] = df[\"FlightNumber\"].astype(int)\n",
    "print(df[\"FlightNumber\"])"
   ]
  },
  {
   "cell_type": "code",
   "execution_count": 79,
   "metadata": {},
   "outputs": [
    {
     "name": "stdout",
     "output_type": "stream",
     "text": [
      "       From         To\n",
      "0    LoNDon      paris\n",
      "1    MAdrid      miLAN\n",
      "2    londON  StockhOlm\n",
      "3  Budapest      PaRis\n",
      "4  Brussels     londOn\n"
     ]
    }
   ],
   "source": [
    "# 2. The From_To column would be better as two separate columns! Split each string on\n",
    "# the underscore delimiter _ to give a new temporary DataFrame with the correct values.\n",
    "# Assign the correct column names to this temporary DataFrame.\n",
    "temp_df = df.From_To.str.split('_', expand=True)\n",
    "temp_df.columns = ['From', 'To']\n",
    "print(temp_df)"
   ]
  },
  {
   "cell_type": "code",
   "execution_count": 80,
   "metadata": {},
   "outputs": [
    {
     "name": "stdout",
     "output_type": "stream",
     "text": [
      "0      London\n",
      "1      Madrid\n",
      "2      London\n",
      "3    Budapest\n",
      "4    Brussels\n",
      "Name: From, dtype: object\n",
      "0        Paris\n",
      "1        Milan\n",
      "2    Stockholm\n",
      "3        Paris\n",
      "4       London\n",
      "Name: To, dtype: object\n"
     ]
    }
   ],
   "source": [
    "# 3. Notice how the capitalisation of the city names is all mixed up in this temporary\n",
    "# DataFrame. Standardise the strings so that only the first letter is uppercase (e.g.\n",
    "# \"londON\" should become \"London\".)\n",
    "temp_df['From'] = temp_df['From'].astype(str).str.capitalize()\n",
    "temp_df['To'] = temp_df['To'].astype(str).str.capitalize()\n",
    "print(temp_df['From'])\n",
    "print(temp_df['To'])"
   ]
  },
  {
   "cell_type": "markdown",
   "metadata": {},
   "source": []
  },
  {
   "cell_type": "code",
   "execution_count": 81,
   "metadata": {},
   "outputs": [
    {
     "name": "stdout",
     "output_type": "stream",
     "text": [
      "   FlightNumber  RecentDelays              Airline      From         To\n",
      "0         10045      [23, 47]               KLM(!)    London      Paris\n",
      "1         10055            []    <Air France> (12)    Madrid      Milan\n",
      "2         10065  [24, 43, 87]  (British Airways. )    London  Stockholm\n",
      "3         10075          [13]       12. Air France  Budapest      Paris\n",
      "4         10085      [67, 32]          \"Swiss Air\"  Brussels     London\n"
     ]
    }
   ],
   "source": [
    "# 4. Delete the From_To column from df and attach the temporary DataFrame from the\n",
    "# previous questions.\n",
    "temp_df[\"FlightNumber\"]=df[\"FlightNumber\"]\n",
    "mask1 = temp_df['FlightNumber'].isna()\n",
    "temp_df[\"FlightNumber\"] = np.where(mask1, temp_df[\"FlightNumber\"].fillna(method='ffill') + 10, temp_df[\"FlightNumber\"])\n",
    "\n",
    "temp_df[\"FlightNumber\"] = temp_df[\"FlightNumber\"].astype(int)\n",
    "df = pd.merge(df, temp_df, on ='FlightNumber')\n",
    "df.drop(['From_To'], axis=1, inplace=True)\n",
    "print(df)"
   ]
  },
  {
   "cell_type": "code",
   "execution_count": 82,
   "metadata": {},
   "outputs": [
    {
     "name": "stdout",
     "output_type": "stream",
     "text": [
      "   FlightNumber              Airline      From         To  delay_1  delay_2  \\\n",
      "0         10045               KLM(!)    London      Paris     23.0     47.0   \n",
      "1         10055    <Air France> (12)    Madrid      Milan      NaN      NaN   \n",
      "2         10065  (British Airways. )    London  Stockholm     24.0     43.0   \n",
      "3         10075       12. Air France  Budapest      Paris     13.0      NaN   \n",
      "4         10085          \"Swiss Air\"  Brussels     London     67.0     32.0   \n",
      "\n",
      "   delay_3  \n",
      "0      NaN  \n",
      "1      NaN  \n",
      "2     87.0  \n",
      "3      NaN  \n",
      "4      NaN  \n"
     ]
    }
   ],
   "source": [
    "# 5 In the RecentDelays column, the values have been entered into the DataFrame as a\n",
    "# list. We would like each first value in its own column, each second value in its own\n",
    "# column, and so on. If there isn't an Nth value, the value should be NaN.\n",
    "df[['delay_1','delay_2','delay_3']] = pd.DataFrame(df.RecentDelays.values.tolist())\n",
    "df.drop(['RecentDelays'], axis=1, inplace=True)\n",
    "print(df)"
   ]
  },
  {
   "cell_type": "code",
   "execution_count": null,
   "metadata": {},
   "outputs": [],
   "source": []
  }
 ],
 "metadata": {
  "kernelspec": {
   "display_name": "Python 3",
   "language": "python",
   "name": "python3"
  },
  "language_info": {
   "codemirror_mode": {
    "name": "ipython",
    "version": 3
   },
   "file_extension": ".py",
   "mimetype": "text/x-python",
   "name": "python",
   "nbconvert_exporter": "python",
   "pygments_lexer": "ipython3",
   "version": "3.6.5"
  }
 },
 "nbformat": 4,
 "nbformat_minor": 2
}
